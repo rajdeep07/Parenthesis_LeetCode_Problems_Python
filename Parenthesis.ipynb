{
 "cells": [
  {
   "cell_type": "raw",
   "metadata": {},
   "source": [
    "# https://leetcode.com/problems/valid-parenthesis-string/\n",
    "\n",
    "'''\n",
    "Given a string s containing only three types of characters: '(', ')' and '*', return true if s is valid.\n",
    "\n",
    "The following rules define a valid string:\n",
    "\n",
    "Any left parenthesis '(' must have a corresponding right parenthesis ')'.\n",
    "Any right parenthesis ')' must have a corresponding left parenthesis '('.\n",
    "Left parenthesis '(' must go before the corresponding right parenthesis ')'.\n",
    "'*' could be treated as a single right parenthesis ')' or a single left parenthesis '(' or an empty string \"\".\n",
    "\n",
    "Input: s = \"()\"\n",
    "Output: true\n",
    "\n",
    "Input: s = \"(*)\"\n",
    "Output: true\n",
    "'''"
   ]
  },
  {
   "cell_type": "markdown",
   "metadata": {},
   "source": [
    "### Valid Parenthesis"
   ]
  },
  {
   "cell_type": "code",
   "execution_count": 18,
   "metadata": {},
   "outputs": [],
   "source": [
    "class Parenthesis:\n",
    "    def valid_parenthesis(self, s):\n",
    "        stack = []\n",
    "        lookup = {\")\":\"(\", \"}\":\"{\",\"]\":\"[\"}\n",
    "\n",
    "        for p in s:\n",
    "            if p in lookup.values():\n",
    "                stack.append(p)\n",
    "            elif stack and lookup[p] == stack[-1]:\n",
    "                stack.pop()\n",
    "            else:\n",
    "                return False\n",
    "\n",
    "        return stack == []"
   ]
  },
  {
   "cell_type": "code",
   "execution_count": 19,
   "metadata": {},
   "outputs": [
    {
     "data": {
      "text/plain": [
       "True"
      ]
     },
     "execution_count": 19,
     "metadata": {},
     "output_type": "execute_result"
    }
   ],
   "source": [
    "Parenthesis().valid_parenthesis(\"()\")"
   ]
  },
  {
   "cell_type": "raw",
   "metadata": {},
   "source": [
    "'''\n",
    "Given n pairs of parentheses, write a function to generate all combinations of well-formed parentheses.\n",
    "\n",
    "Input: n = 3\n",
    "Output: [\"((()))\",\"(()())\",\"(())()\",\"()(())\",\"()()()\"]\n",
    "\n",
    "'''"
   ]
  },
  {
   "cell_type": "markdown",
   "metadata": {},
   "source": [
    "### Generate Parenthesis"
   ]
  },
  {
   "cell_type": "code",
   "execution_count": 11,
   "metadata": {},
   "outputs": [],
   "source": [
    "class Solution:\n",
    "    def generateParenthesis(self, n: int):\n",
    "        \n",
    "        def backtrack(s, left, right):\n",
    "            if len(s) == 2*n:\n",
    "                res.append(s)\n",
    "            if left < n:\n",
    "                backtrack(s+'(', left+1, right)\n",
    "            if right < left:\n",
    "                backtrack(s+')', left, right+1)\n",
    "        \n",
    "        res = []\n",
    "        backtrack('',0,0)\n",
    "        \n",
    "        return res"
   ]
  },
  {
   "cell_type": "code",
   "execution_count": 12,
   "metadata": {},
   "outputs": [
    {
     "data": {
      "text/plain": [
       "['((()))', '(()())', '(())()', '()(())', '()()()']"
      ]
     },
     "execution_count": 12,
     "metadata": {},
     "output_type": "execute_result"
    }
   ],
   "source": [
    "Solution().generateParenthesis(3)"
   ]
  },
  {
   "cell_type": "code",
   "execution_count": null,
   "metadata": {},
   "outputs": [],
   "source": []
  }
 ],
 "metadata": {
  "kernelspec": {
   "display_name": "Python 3",
   "language": "python",
   "name": "python3"
  },
  "language_info": {
   "codemirror_mode": {
    "name": "ipython",
    "version": 3
   },
   "file_extension": ".py",
   "mimetype": "text/x-python",
   "name": "python",
   "nbconvert_exporter": "python",
   "pygments_lexer": "ipython3",
   "version": "3.8.8"
  }
 },
 "nbformat": 4,
 "nbformat_minor": 4
}
